{
 "cells": [
  {
   "cell_type": "code",
   "execution_count": 2,
   "id": "dace41e3-65d4-4345-ae27-2c19bc41c86f",
   "metadata": {},
   "outputs": [
    {
     "name": "stdout",
     "output_type": "stream",
     "text": [
      "E:\\ProgrammingProjects\\PyCharmProjects\\dajianggou_tutorial\\backend\\notebook\n"
     ]
    }
   ],
   "source": [
    "import os\n",
    "print(os.getcwd())"
   ]
  },
  {
   "cell_type": "code",
   "execution_count": 3,
   "id": "816d8037-b8f6-4499-aeab-274ddee43e33",
   "metadata": {},
   "outputs": [],
   "source": [
    "# todo: Jupyter 可以做哪些事情？"
   ]
  },
  {
   "cell_type": "code",
   "execution_count": null,
   "id": "da241254-2c59-43c9-9d63-d3f48ec33348",
   "metadata": {},
   "outputs": [],
   "source": []
  },
  {
   "cell_type": "code",
   "execution_count": null,
   "id": "e1d5f95c-3d86-41f5-a5e3-92ba84a0b271",
   "metadata": {},
   "outputs": [],
   "source": []
  },
  {
   "cell_type": "code",
   "execution_count": null,
   "id": "52e9dc15-8fdd-42f4-8ab9-2176cfe470ee",
   "metadata": {},
   "outputs": [],
   "source": []
  }
 ],
 "metadata": {
  "kernelspec": {
   "display_name": "Python 3 (ipykernel)",
   "language": "python",
   "name": "python3"
  },
  "language_info": {
   "codemirror_mode": {
    "name": "ipython",
    "version": 3
   },
   "file_extension": ".py",
   "mimetype": "text/x-python",
   "name": "python",
   "nbconvert_exporter": "python",
   "pygments_lexer": "ipython3",
   "version": "3.12.3"
  }
 },
 "nbformat": 4,
 "nbformat_minor": 5
}
